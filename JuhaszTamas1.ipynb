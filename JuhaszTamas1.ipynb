{
 "cells": [
  {
   "cell_type": "code",
   "execution_count": 39,
   "metadata": {},
   "outputs": [
    {
     "name": "stdout",
     "output_type": "stream",
     "text": [
      "Bevétel átlag: 411437.91 Nyereség átlag: 59011.45\n",
      "Bevétel szórása: 205394.2 Nyereség szórása: 63144.28\n",
      "        Dátum Kategórianév Terméknév  Mennyiség  Bevétel   Költség  Nyereség  \\\n",
      "30 2015-04-27        Iroda    Ceruza       2000   600000  480000.0  120000.0   \n",
      "\n",
      "   Vevőnév  Megye Bolt város Boltnév  index        Orszag  \n",
      "30  Kis bt  Heves     Hatvan  1. ABC     30  Magyarország  \n",
      "       Dátum Kategórianév Terméknév  Mennyiség  Bevétel   Költség  Nyereség  \\\n",
      "4 2015-01-23        Játék     Labda        300   150000  120000.0   30000.0   \n",
      "\n",
      "    Vevőnév  Megye Bolt város Boltnév  index        Orszag  \n",
      "4  Nagy Kft  Heves   Gyöngyös  1. ABC      4  Magyarország  \n"
     ]
    },
    {
     "name": "stderr",
     "output_type": "stream",
     "text": [
      "<ipython-input-39-c02072f69b6f>:48: FutureWarning: Indexing with multiple keys (implicitly converted to a tuple of keys) will be deprecated, use a list instead.\n",
      "  g['Bevétel','Nyereség'].sum()\n"
     ]
    },
    {
     "data": {
      "text/plain": [
       "Kategórianév\n",
       "Iroda    30250000\n",
       "Játék    21210000\n",
       "Kert     38000000\n",
       "Name: Bevétel, dtype: int64"
      ]
     },
     "execution_count": 39,
     "metadata": {},
     "output_type": "execute_result"
    }
   ],
   "source": [
    "import os\n",
    "ldir = os.chdir(r'C:\\Users\\Dell 5300\\PorabaAnakonda')\n",
    "import pandas as pd\n",
    "\n",
    "#1.feladat\n",
    "df = pd.read_excel('Ertekesites(nagyker).xlsx','Lekérdezés1')\n",
    "#2.feladat\n",
    "df.head(10)\n",
    "df.tail(5)\n",
    "df['index'] = range(0,len(df))\n",
    "df[(df['index']>15) & (df['index']<25)]\n",
    "#3.feladat\n",
    "termekek = df[['Dátum','Terméknév','Bevétel']].head(20)\n",
    "print(termekek)\n",
    "#4.feladat\n",
    "top10nyereseg = df.nlargest(10,'Nyereség')\n",
    "print(top10nyereseg)\n",
    "#5.feladat\n",
    "top5legBev = df[['Dátum','Bolt város','Bevétel']].nsmallest(5,'Bevétel')\n",
    "print(top5legBev)\n",
    "top5legBev.to_csv(r'minbev.tsv', sep = '\\t',index = None)\n",
    "#6.feladat\n",
    "print(df.loc[df.Nyereség==46464])\n",
    "#7.feladat\n",
    "print(df.loc[(df['Bolt város']=='Eger') | (df['Bolt város']=='Hatvan')])\n",
    "#8.feladat\n",
    "print(df[df['Bevétel']>500000])\n",
    "#9.feladat\n",
    "print(df.loc[df['Nyereség'].idxmax()])\n",
    "#10.feladat\n",
    "print(df[df['Bevétel']>df['Bevétel'].mean()])   \n",
    "#11.feladat\n",
    "df['Orszag'] = 'Magyarország'\n",
    "#12.feladat\n",
    "df = df.drop(columns=['Vevő megye','Vevő város'])\n",
    "#13.feladat\n",
    "df = df.rename(columns={'Bolt megye':'Megye'})\n",
    "#14.feladat\n",
    "df.loc[(df['index'] > 24) & (df['index'] < 31), ['Vevőnév']] = 'Kis bt'\n",
    "#15.feladat\n",
    "df.loc[(df['Bolt város'] == 'Cegléd'), ['Bolt város']] = 'Monor'\n",
    "#16.feladat\n",
    "print('Bevétel átlag: '+ str(round(df['Bevétel'].mean(),2)) + ' Nyereség átlag: '+ str(round(df['Nyereség'].mean(),2)))\n",
    "print('Bevétel szórása: '+ str(round(df['Bevétel'].std(),2)) + ' Nyereség szórása: '+ str(round(df['Nyereség'].std(),2)))\n",
    "#17.feladat\n",
    "round(df.describe(),2)\n",
    "#18.feladat\n",
    "g = df.groupby('Bolt város')\n",
    "g['Bevétel','Nyereség'].sum()\n",
    "#19.feladat\n",
    "g2 = df.groupby(['Megye','Kategórianév'])\n",
    "g2['Költség'].sum()\n",
    "#20.feladat\n",
    "heves = df.loc[(df['Megye'] == 'Heves')]\n",
    "heves_max = heves.nlargest(1,'Mennyiség')\n",
    "heves_min = heves.nsmallest(1,'Mennyiség')\n",
    "print(heves_max)\n",
    "print(heves_min)\n",
    "hg = heves.groupby('Kategórianév')\n",
    "hg['Bevétel'].sum()"
   ]
  },
  {
   "cell_type": "code",
   "execution_count": null,
   "metadata": {},
   "outputs": [],
   "source": []
  }
 ],
 "metadata": {
  "kernelspec": {
   "display_name": "Python 3",
   "language": "python",
   "name": "python3"
  },
  "language_info": {
   "codemirror_mode": {
    "name": "ipython",
    "version": 3
   },
   "file_extension": ".py",
   "mimetype": "text/x-python",
   "name": "python",
   "nbconvert_exporter": "python",
   "pygments_lexer": "ipython3",
   "version": "3.8.5"
  }
 },
 "nbformat": 4,
 "nbformat_minor": 4
}
