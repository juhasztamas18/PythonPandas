{
 "cells": [
  {
   "cell_type": "code",
   "execution_count": 90,
   "metadata": {},
   "outputs": [],
   "source": [
    "import os\n",
    "ldir = os.chdir(r'C:\\Users\\Dell 5300\\PorabaAnakonda')\n",
    "import pandas as pd\n",
    "import numpy as np\n",
    "\n",
    "#1.feladat\n",
    "df1 = pd.read_excel('Értekesites(nagyker).xlsx','E1')\n",
    "df1 = df1.drop(columns=['Vevőnév','Vevő megye'])\n",
    "headers = list(df1.columns)\n",
    "df2 = pd.read_excel('Értekesites(nagyker).xlsx','E2',names=headers)\n",
    "df = pd.concat([df1,df2],ignore_index=True)\n",
    "df.drop_duplicates(keep=False,inplace=True)\n",
    "#print(df.head(30))\n",
    "#2.feladat\n",
    "df1 = pd.read_excel('Értekesites(nagyker).xlsx','E1',index_col=0)\n",
    "df3 = pd.read_excel('Értekesites(nagyker).xlsx','E3',index_col=0)\n",
    "dfc = pd.concat([df1,df3],axis=1)\n",
    "dfm = pd.merge(df1,df3,on='Dátum')\n",
    "dfm = dfm.T.drop_duplicates().T\n",
    "#print(dfm.head(30))\n",
    "#3.feladat \n",
    "df4 = pd.read_excel('Értekesites(nagyker).xlsx','E4')\n",
    "df5 = pd.read_excel('Értekesites(nagyker).xlsx','E')\n",
    "dfv = pd.merge(df5,df4, how='left', on='Vevőnév')\n",
    "dfv = dfv.drop('Telefon',1)\n",
    "#print(dfv.head(30))\n",
    "#4.feladat\n",
    "dfnv = pd.merge(df5,df4,how='outer',indicator=True)\n",
    "dfnv = dfnv[dfnv['_merge']=='right_only']\n",
    "#print(dfnv['Vevőnév'].head(5))\n",
    "#5.feladat \n",
    "df5p = df5.pivot_table(index='Vevőnév',columns='Kategórianév',\n",
    "                         values='Nyereség',aggfunc='sum')\n",
    "#print(df5p.head(20))\n",
    "#6.feladat\n",
    "dfk = pd.read_excel('Értekesites(nagyker).xlsx','K1', skiprows=3)\n",
    "dfk = dfk.drop('Végösszeg',1)\n",
    "dfk = pd.melt(dfk,id_vars='Vevők',var_name='Város',value_name='Költség')\n",
    "#print(dfk.head())\n",
    "#7.feladat\n",
    "df5.rename({'Bolt megye': 'Megye'},axis=1, inplace=True)\n",
    "df5p=pd.crosstab([df5.Vevőnév,df5.Megye],[df5.Kategórianév],margins=True)\n",
    "#print(df5p.head())\n",
    "#8.feladat\n",
    "df5.rename({'Bolt város': 'Város'},axis=1, inplace=True)\n",
    "##dfc = pd.crosstab([df5.Város], [df5.Terméknév], values=df.Nyereség, aggfunc=np.mean)\n",
    "df5pp = df5.pivot_table(index=['Város'],columns='Terméknév',values='Nyereség',aggfunc=np.mean)\n",
    "#print(df5pp.head())"
   ]
  },
  {
   "cell_type": "code",
   "execution_count": null,
   "metadata": {},
   "outputs": [],
   "source": []
  }
 ],
 "metadata": {
  "kernelspec": {
   "display_name": "Python 3",
   "language": "python",
   "name": "python3"
  },
  "language_info": {
   "codemirror_mode": {
    "name": "ipython",
    "version": 3
   },
   "file_extension": ".py",
   "mimetype": "text/x-python",
   "name": "python",
   "nbconvert_exporter": "python",
   "pygments_lexer": "ipython3",
   "version": "3.8.5"
  }
 },
 "nbformat": 4,
 "nbformat_minor": 4
}
