{
 "cells": [
  {
   "cell_type": "code",
   "execution_count": 46,
   "metadata": {},
   "outputs": [
    {
     "name": "stdout",
     "output_type": "stream",
     "text": [
      "[1, 4, 9, 16, 25, 36, 49, 64, 81, 100]\n",
      "[1, 4, 9, 16, 25, 36, 49]\n",
      "{1: 1, 2: 4, 3: 9, 4: 16, 5: 25, 6: 36, 7: 49, 8: 64, 9: 81, 10: 100}\n",
      "[1.0, 4, 1.73, 16, 2.24, 36, 2.65, 64, 3.0, 100]\n",
      "['Profi', 'Python', 'lista', 'generálás']\n",
      "['Profi', 'Python', 'lista', 'generálás']\n",
      "Adja meg meddig irja a ki a számokat:\n",
      "[0, 1, 1, 2, 3]\n",
      "Hány elemű legyen tömb\n",
      "[6, 6, 9, 0, 3] [8, 8, 6, 1, 4]\n",
      "[6]\n",
      "[6, 6, 9, 0, 3]\n",
      "['páros', 'páros', 'páratlan', 'páros', 'páratlan']\n",
      "[(4887871, 'Alabama'), (39865590, 'California'), (1420491, 'Hawaii'), (19542209, 'New York'), (626299, 'Vermont'), (1805832, 'West Virginia')]\n",
      "['c', 'a', 'b'] 3\n"
     ]
    }
   ],
   "source": [
    "#1.feladat\n",
    "tomb1 = [x*x for x in range(1,11)]\n",
    "print(tomb1);\n",
    "#2.feladat\n",
    "tomb2 = [x*x for x in range(1,10) if x*x<50]\n",
    "print(tomb2)\n",
    "#3.feladat\n",
    "szam = [x for x in range(1,11)]\n",
    "szam2 = [x*x for x in range(1,11)]\n",
    "tomb3 = {x:y for x,y in zip(szam,szam2)}\n",
    "print(tomb3)\n",
    "#4.feladat\n",
    "tomb4 = [x*x if x%2==0 else round(x**(1/2),2) for x in range(1,11)]\n",
    "print(tomb4)\n",
    "#5.feladat\n",
    "l1=[\"Pro\",\"Py\",\"lis\",\"gener\"]\n",
    "l2=[\"fi\",\"thon\",\"ta\",\"álás\"]\n",
    "tomb5 = [x+y for x,y in zip(l1,l2)]\n",
    "print(tomb5)\n",
    "#6.feladat\n",
    "lst = [\"Profi\", \"\", \"Python\", \"\", \"lista\", \"generálás\", \"\"]\n",
    "f = lambda lst: [x for x in lst if x!=\"\"]\n",
    "print(f(lst))\n",
    "#7.feladat\n",
    "from functools import reduce\n",
    "print(\"Adja meg meddig irja a ki a számokat:\")\n",
    "n = 5 #int(input());\n",
    "fib = reduce(lambda x, _: x + [x[-2] + x[-1]], [0] * (n-2), [0, 1])\n",
    "print(fib)\n",
    "#8.feladat \n",
    "import random\n",
    "print(\"Hány elemű legyen tömb\")\n",
    "k = 5 #int(input());\n",
    "sg1=[random.randint(0,10) for x in range(k)]\n",
    "sg2=[random.randint(0,10) for x in range(k)]\n",
    "print(sg1,sg2)\n",
    "def egyforma(a,b): \n",
    "    c = [value for value in a if value in b] \n",
    "    return c\n",
    "eredmeny=list(set(egyforma(sg1,sg2)))\n",
    "print(eredmeny)\n",
    "#9.feladat\n",
    "paritas = lambda x: 'páros' if x%2==0 else 'páratlan' \n",
    "print(sg1)\n",
    "print(list(map(paritas,sg1)))\n",
    "#10.feladat\n",
    "#szorzas = lambda x,y: x*y if x%y==0 \n",
    "#print(list(map(szorzas,sg1)))\n",
    "#12.feladat\n",
    "lista = [(19542209, \"New York\") ,(4887871, \"Alabama\"), (1420491, \"Hawaii\"),\n",
    "(626299, \"Vermont\"), (1805832, \"West Virginia\"), (39865590, \"California\")]\n",
    "rendezett = sorted(lista,key=lambda x : x[1])\n",
    "print(rendezett)\n",
    "#11.feladat\n",
    "egyedi = lambda a:list(set(a))\n",
    "szama = lambda a:len(set(a)) \n",
    "print(egyedi('aaaaabbc'),szama('aaaaabbc'))"
   ]
  },
  {
   "cell_type": "code",
   "execution_count": null,
   "metadata": {},
   "outputs": [],
   "source": []
  }
 ],
 "metadata": {
  "kernelspec": {
   "display_name": "Python 3",
   "language": "python",
   "name": "python3"
  },
  "language_info": {
   "codemirror_mode": {
    "name": "ipython",
    "version": 3
   },
   "file_extension": ".py",
   "mimetype": "text/x-python",
   "name": "python",
   "nbconvert_exporter": "python",
   "pygments_lexer": "ipython3",
   "version": "3.8.5"
  }
 },
 "nbformat": 4,
 "nbformat_minor": 4
}
