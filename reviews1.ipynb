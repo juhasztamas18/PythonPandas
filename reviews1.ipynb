{
 "cells": [
  {
   "cell_type": "code",
   "execution_count": 9,
   "metadata": {},
   "outputs": [],
   "source": [
    "import gzip\n",
    "import pandas as pd\n",
    "import json\n",
    "from collections import defaultdict\n",
    "import itertools\n",
    "data_users3 = []\n",
    "with gzip.open('D:/Vortess/DWH/10_Datasets/Google Local Review/reviews.clean.json.gz') as g:\n",
    "    for line in itertools.islice(g, 0, 3817948):        \n",
    "        data_users3.append(eval(line))\n",
    "        \n",
    "df2 = pd.DataFrame.from_dict(data_users3)\n"
   ]
  },
  {
   "cell_type": "code",
   "execution_count": 10,
   "metadata": {},
   "outputs": [],
   "source": [
    "df2.to_csv(r'reviews_clean1.csv',sep = ',',index = None)\n"
   ]
  },
  {
   "cell_type": "code",
   "execution_count": 5,
   "metadata": {},
   "outputs": [
    {
     "name": "stdout",
     "output_type": "stream",
     "text": [
      "11453845\n"
     ]
    }
   ],
   "source": [
    "num_lines = sum(1 for line in gzip.open('D:/Vortess/DWH/10_Datasets/Google Local Review/reviews.clean.json.gz'))\n",
    "print(num_lines)\n"
   ]
  },
  {
   "cell_type": "code",
   "execution_count": 8,
   "metadata": {},
   "outputs": [
    {
     "name": "stdout",
     "output_type": "stream",
     "text": [
      "7635897\n"
     ]
    }
   ],
   "source": [
    "print(3817949 +3817948)\n"
   ]
  }
 ],
 "metadata": {
  "kernelspec": {
   "display_name": "Python 3",
   "language": "python",
   "name": "python3"
  },
  "language_info": {
   "codemirror_mode": {
    "name": "ipython",
    "version": 3
   },
   "file_extension": ".py",
   "mimetype": "text/x-python",
   "name": "python",
   "nbconvert_exporter": "python",
   "pygments_lexer": "ipython3",
   "version": "3.8.5"
  }
 },
 "nbformat": 4,
 "nbformat_minor": 4
}
