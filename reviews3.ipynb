{
 "cells": [
  {
   "cell_type": "code",
   "execution_count": 2,
   "metadata": {},
   "outputs": [],
   "source": [
    "import gzip\n",
    "import pandas as pd\n",
    "import json\n",
    "from collections import defaultdict\n",
    "import itertools\n",
    "\n",
    "data_users4 = []\n",
    "with gzip.open('D:/Vortess/DWH/10_Datasets/Google Local Review/reviews.clean.json.gz') as g:\n",
    "    for line in itertools.islice(g, 7635897, 11453845):        \n",
    "        data_users4.append(eval(line))\n",
    "        \n",
    "df3 = pd.DataFrame.from_dict(data_users4)\n"
   ]
  },
  {
   "cell_type": "code",
   "execution_count": 3,
   "metadata": {},
   "outputs": [],
   "source": [
    "df3.to_csv(r'reviews_clean3.csv',sep = ',',index = None)"
   ]
  },
  {
   "cell_type": "code",
   "execution_count": null,
   "metadata": {},
   "outputs": [],
   "source": [
    "/****** Script for SelectTopNRows command from SSMS  ******/\n",
    "CREATE VIEW google_allrevews AS\n",
    "SELECT [rating]\n",
    "      ,[reviewerName]\n",
    "      ,[reviewText]\n",
    "      ,[categories]\n",
    "      ,[gPlusPlaceId]\n",
    "      ,[unixReviewTime]\n",
    "      ,[reviewTime]\n",
    "      ,[gPlusUserId]\n",
    "  FROM [Sandbox].[srcggl].[google_reviews3] UNION ALL \n",
    "  SELECT [rating]\n",
    "      ,[reviewerName]\n",
    "      ,[reviewText]\n",
    "      ,[categories]\n",
    "      ,[gPlusPlaceId]\n",
    "      ,[unixReviewTime]\n",
    "      ,[reviewTime]\n",
    "      ,[gPlusUserId]\n",
    " FROM [Sandbox].[srcggl].[google_reviews2] UNION ALL \n",
    " SELECT [rating]\n",
    "      ,[reviewerName]\n",
    "      ,[reviewText]\n",
    "      ,[categories]\n",
    "      ,[gPlusPlaceId]\n",
    "      ,[unixReviewTime]\n",
    "      ,[reviewTime]\n",
    "      ,[gPlusUserId]\n",
    "FROM [Sandbox].[srcggl].[google_reviews2];"
   ]
  }
 ],
 "metadata": {
  "kernelspec": {
   "display_name": "Python 3",
   "language": "python",
   "name": "python3"
  },
  "language_info": {
   "codemirror_mode": {
    "name": "ipython",
    "version": 3
   },
   "file_extension": ".py",
   "mimetype": "text/x-python",
   "name": "python",
   "nbconvert_exporter": "python",
   "pygments_lexer": "ipython3",
   "version": "3.8.5"
  }
 },
 "nbformat": 4,
 "nbformat_minor": 4
}
