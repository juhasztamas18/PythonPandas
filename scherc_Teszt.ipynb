{
 "cells": [
  {
   "cell_type": "code",
   "execution_count": 43,
   "metadata": {},
   "outputs": [
    {
     "name": "stdout",
     "output_type": "stream",
     "text": [
      "Adja meg hány kérdést szeretne megválaszolni(csak egész szám lehet)\n",
      "2\n",
      "0\n",
      "5\n",
      "1. What is the capital city of China today?\n",
      "\n",
      "a. Beijing\n",
      "\n",
      "b. Hong Kong\n",
      "\n",
      "c. Moukden\n",
      "\n",
      "d. Shanghai\n",
      "\n",
      "D\n",
      "2. What city (modern-day Xiâ€™an) was the worldâ€™s most populous city, and the capital of Tang-era China from 618 until 904 CE?\n",
      "\n",
      "a. Bianjing\n",
      "\n",
      "b. Changâ€™an\n",
      "\n",
      "c. Linâ€™an\n",
      "\n",
      "d. Peking\n",
      "['1 c\\n', '2 d\\n', '3 c\\n', '4 b\\n', '5 c']\n"
     ]
    }
   ],
   "source": [
    "import os\n",
    "ldir = os.chdir(r'C:\\Users\\Dell 5300\\PorabaAnakonda')\n",
    "\n",
    "print('Adja meg hány kérdést szeretne megválaszolni(csak egész szám lehet)')\n",
    "hanykeredes = input()\n",
    "try: \n",
    "    hanykerdes = int(hanykeredes)\n",
    "except:\n",
    "    print('Egész számot adjon meg')\n",
    "    \n",
    "szam = [x*5 for x in range(1,10)] \n",
    "#print(szam)\n",
    "valaszok = []\n",
    "f = open(\"KERDESEK.txt\", \"r\")\n",
    "lines = f.readlines()\n",
    "i = 0\n",
    "print(szam[i])\n",
    "for index, l in enumerate(lines):\n",
    "    if index != szam[i]: \n",
    "        print(l)\n",
    "    else: \n",
    "        valaszok.append(input())\n",
    "        print(l)\n",
    "        i = i+1\n",
    "        \n",
    "f.close()\n",
    "with open('VALASZOK.TXT') as f:\n",
    "    lines = f.readlines()\n"
   ]
  },
  {
   "cell_type": "code",
   "execution_count": 31,
   "metadata": {},
   "outputs": [
    {
     "data": {
      "text/plain": [
       "0"
      ]
     },
     "execution_count": 31,
     "metadata": {},
     "output_type": "execute_result"
    }
   ],
   "source": [
    "1//5\n"
   ]
  },
  {
   "cell_type": "code",
   "execution_count": 41,
   "metadata": {},
   "outputs": [
    {
     "name": "stdout",
     "output_type": "stream",
     "text": [
      "['D']\n"
     ]
    }
   ],
   "source": [
    "print(valaszok)"
   ]
  },
  {
   "cell_type": "code",
   "execution_count": null,
   "metadata": {},
   "outputs": [],
   "source": []
  }
 ],
 "metadata": {
  "kernelspec": {
   "display_name": "Python 3",
   "language": "python",
   "name": "python3"
  },
  "language_info": {
   "codemirror_mode": {
    "name": "ipython",
    "version": 3
   },
   "file_extension": ".py",
   "mimetype": "text/x-python",
   "name": "python",
   "nbconvert_exporter": "python",
   "pygments_lexer": "ipython3",
   "version": "3.8.5"
  }
 },
 "nbformat": 4,
 "nbformat_minor": 4
}
